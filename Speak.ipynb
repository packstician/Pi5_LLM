{
 "cells": [
  {
   "cell_type": "code",
   "execution_count": null,
   "metadata": {},
   "outputs": [],
   "source": [
    "\n",
    "from gtts import gTTS\n",
    "import os\n",
    "\n",
    "# Define the text you want to convert to speech\n",
    "text_to_say = \"Hello, this is a test of the Google text-to-speech library.\"\n",
    "\n",
    "# Create a gTTS object\n",
    "tts = gTTS(text=text_to_say, lang='en')\n",
    "\n",
    "# Save the audio file\n",
    "tts.save(\"output.mp3\")\n",
    "\n",
    "# Play the audio file (this part is platform dependent)\n",
    "if os.name == 'nt':  # For Windows\n",
    "    os.system(\"start output.mp3\")\n",
    "elif os.name == 'posix':  # For Unix or MacOS\n",
    "    os.system(\"afplay output.mp3\")\n"
   ]
  }
 ],
 "metadata": {
  "kernelspec": {
   "display_name": "Python 3",
   "language": "python",
   "name": "python3"
  },
  "language_info": {
   "name": "python",
   "version": "3.11.0"
  }
 },
 "nbformat": 4,
 "nbformat_minor": 2
}
